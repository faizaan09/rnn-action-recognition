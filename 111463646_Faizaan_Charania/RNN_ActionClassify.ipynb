{
 "cells": [
  {
   "cell_type": "markdown",
   "metadata": {},
   "source": [
    "# Sequence Classification using Recurrent Neural Networks(RNN)\n",
    "In this homework, you will learn how to train a recurrent neural network for human action classification. RNN is designed handle sequential data. The network can incorporate both past history and current input. [This](http://colah.github.io/posts/2015-08-Understanding-LSTMs/) is a very good tutorial. You should read it before you start."
   ]
  },
  {
   "cell_type": "markdown",
   "metadata": {},
   "source": [
    "## Setup\n",
    "**Please make sure you have h5py and torchnet installed**\n",
    "> pip install h5py\n",
    "\n",
    "> pip install git+https://github.com/pytorch/tnt.git@master\n",
    "\n",
    "## Known Windows Issues:\n",
    "### In case you're getting an error [Read more](https://discuss.pytorch.org/t/brokenpipeerror-errno-32-broken-pipe-when-i-run-cifar10-tutorial-py/6224): \n",
    "```python\n",
    "BrokenPipeError: [Errno 32] Broken pipe\n",
    "```\n",
    "\n",
    ">In the dataloader block change Line 39, 42, and 45 num_workers=0 \n",
    "\n",
    "### In case of error (This should be a CUDA error [Read more](https://discuss.pytorch.org/t/asserterror-in-lstm-layer-on-gpu/8698)):\n",
    "\n",
    "```python\n",
    "--> 186             assert param_from.type() == param_to.type()\n",
    "AssertionError: \n",
    "```\n",
    "\n",
    "**Replace following lines:**\n",
    "```python\n",
    "def run_epoch(data_loader, model, criterion, epoch, is_training, optimizer=None):\n",
    "    ...\n",
    "    input_sequence_var = Variable(sequence).type(FloatTensor)\n",
    "    input_label_var = Variable(label).type(LongTensor)\n",
    "    ...\n",
    "```\n",
    "```python\n",
    "def predict_on_test(model, data_loader):\n",
    "    ...\n",
    "        input_sequence_var = Variable(sequence).type(FloatTensor)\n",
    "    ...\n",
    "```\n",
    "** With: **\n",
    "```python\n",
    "def run_epoch(data_loader, model, criterion, epoch, is_training, optimizer=None):\n",
    "    ...\n",
    "    input_sequence_var = Variable(sequence)\n",
    "    input_label_var = Variable(label)\n",
    "    ...\n",
    "```\n",
    "```python\n",
    "def predict_on_test(model, data_loader):\n",
    "    ...\n",
    "        input_sequence_var = Variable(sequence)\n",
    "    ...\n",
    "```"
   ]
  },
  {
   "cell_type": "code",
   "execution_count": 267,
   "metadata": {},
   "outputs": [
    {
     "name": "stdout",
     "output_type": "stream",
     "text": [
      "use cuda: True\n"
     ]
    }
   ],
   "source": [
    "import os\n",
    "import numpy as np\n",
    "import h5py\n",
    "\n",
    "import torch\n",
    "import torch.nn as nn\n",
    "from torch.autograd import Variable\n",
    "import torch.utils.data as DD\n",
    "import torchnet as tnt\n",
    "import matplotlib.pyplot as plt\n",
    "import torchvision.transforms as T\n",
    "\n",
    "\n",
    "use_cuda = torch.cuda.is_available()\n",
    "print('use cuda: %s'%(use_cuda))\n",
    "FloatTensor = torch.cuda.FloatTensor if use_cuda else torch.FloatTensor\n",
    "LongTensor = torch.cuda.LongTensor if use_cuda else torch.LongTensor\n",
    "ByteTensor = torch.cuda.ByteTensor if use_cuda else torch.ByteTensor\n",
    "\n"
   ]
  },
  {
   "cell_type": "markdown",
   "metadata": {},
   "source": [
    "## Dataset\n",
    "The data we are using is skeleton data, which indicates the 3D locations of body joints. In total, there are 25 body joints. It is collected by Kinect v2. To make it easier, each sequence have same number of frames. You need to classify 10 different actions. There are 4000 training sequences, 800 validation sequences, and 1000 test sequences. Each sequence has 15 frames, each frame is a 75-dimension vector (3*25).\n",
    "\n",
    "For your convenience, we provide the dataloader for you.\n"
   ]
  },
  {
   "cell_type": "code",
   "execution_count": 2,
   "metadata": {},
   "outputs": [],
   "source": [
    "class Dataset(DD.Dataset):\n",
    "    # subset can be: 'train', 'val', 'test'\n",
    "    def __init__(self, data_path, subset='train'):\n",
    "        super(Dataset, self).__init__()\n",
    "        self.data_path = os.path.join(data_path, '%s_data.h5'%subset)\n",
    "        self.subset = subset\n",
    "\n",
    "        with h5py.File(self.data_path) as f:\n",
    "            self.data = np.array(f['data'])\n",
    "\n",
    "        if subset != 'test':\n",
    "            self.label_path = os.path.join(data_path, '%s_label.h5'%subset)\n",
    "            with h5py.File(self.label_path) as f:\n",
    "                self.label = np.array(f['label'])\n",
    "\n",
    "        self.num_sequences = self.data.shape[0]\n",
    "        self.seq_len = self.data.shape[1]\n",
    "        self.n_dim = self.data.shape[2]\n",
    "\n",
    "    def __getitem__(self, index):\n",
    "        seq = self.data[index]\n",
    "        if self.subset != 'test':\n",
    "            label = int(self.label[index])\n",
    "            sample = {'seq': seq, 'label': label}\n",
    "        else:\n",
    "            sample = {'seq': seq}\n",
    "        return sample\n",
    "\n",
    "    def __len__(self):\n",
    "        return self.num_sequences"
   ]
  },
  {
   "cell_type": "code",
   "execution_count": 116,
   "metadata": {},
   "outputs": [],
   "source": [
    "trSet = Dataset('./data', subset='train')\n",
    "valSet = Dataset('./data', subset='val')\n",
    "tstSet = Dataset('./data', subset='test')\n",
    "transform = T.Compose([T.Normalize(0,1)])\n",
    "\n",
    "batch_size = 100\n",
    "trLD = DD.DataLoader(trSet, batch_size=batch_size,\n",
    "       sampler=DD.sampler.RandomSampler(trSet),\n",
    "       num_workers=2, pin_memory=True)\n",
    "valLD = DD.DataLoader(valSet, batch_size=batch_size,\n",
    "       sampler=DD.sampler.SequentialSampler(valSet),\n",
    "       num_workers=1, pin_memory=True)\n",
    "tstLD = DD.DataLoader(tstSet, batch_size=batch_size,\n",
    "       sampler=DD.sampler.SequentialSampler(tstSet),\n",
    "       num_workers=1, pin_memory=True)\n",
    "\n",
    "input_dim = trSet.n_dim\n",
    "num_class = 10"
   ]
  },
  {
   "cell_type": "markdown",
   "metadata": {},
   "source": [
    "## Model\n",
    "Pytorch has implemented different types of recurrent layers for you. For this homework, you can use any type of RNNs as you want:\n",
    "> torch.nn.RNN()\n",
    "\n",
    "> torch.nn.LSTM()\n",
    "\n",
    "> torch.nn.GRU()\n",
    "\n",
    "You can check details for different types of recurrent layers here: [RNN](http://pytorch.org/docs/master/nn.html#torch.nn.RNN), [LSTM]( http://pytorch.org/docs/master/nn.html#torch.nn.LSTM), [GRU](http://pytorch.org/docs/master/nn.html#torch.nn.GRU)\n",
    "\n",
    "\n",
    "### Implement a specific model\n",
    "In this section, you need to implement a model for sequence classification. The model has following layers:\n",
    "* 1 Layer LSTM layer with hidden size of 100, and input size of 75\n",
    "* A linear layer that goes from 100 to num_class (10). \n",
    "\n",
    "An LSTM layer takes an input of size of (batch_size, seq_len, fea_dim) and outputs a variable of shape (batch_size, seq_len, hidden_size). In this homework, the classification score for a sequence is the classification score for the last step of rnn_outputs.\n",
    "\n"
   ]
  },
  {
   "cell_type": "code",
   "execution_count": 270,
   "metadata": {},
   "outputs": [],
   "source": [
    "# sequence classification model\n",
    "class SequenceClassify(nn.Module):\n",
    "    def __init__(self):\n",
    "        super(SequenceClassify, self).__init__()\n",
    "        \n",
    "        ############## 1st To Do (20 points) ##############\n",
    "        ###################################################\n",
    "        self.recurrent_layer = nn.LSTM(75,100)\n",
    "        self.classify_layer = nn.Linear(100,10)\n",
    "        ###################################################\n",
    "    \n",
    "    # the size of input is [batch_size, seq_len(15), input_dim(75)]\n",
    "    # the size of logits is [batch_size, num_class]\n",
    "    def forward(self, input, h_t_1=None, c_t_1=None):\n",
    "        # the size of rnn_outputs is [batch_size, seq_len, rnn_size]\n",
    "        rnn_outputs, (hn, cn) = self.recurrent_layer(input)\n",
    "        # classify the last step of rnn_outpus\n",
    "        # the size of logits is [batch_size, num_class]\n",
    "        logits = self.classify_layer(rnn_outputs[:,-1])\n",
    "        return logits\n",
    "\n",
    "model = SequenceClassify().cuda()"
   ]
  },
  {
   "cell_type": "markdown",
   "metadata": {},
   "source": [
    "## Train the model\n",
    "After you have the dataloader and model, you can start training the model. Define a SGD optimizer with learning rate of 1e-2, and a cross-entropy loss function:"
   ]
  },
  {
   "cell_type": "code",
   "execution_count": 271,
   "metadata": {},
   "outputs": [],
   "source": [
    "################ 2nd To Do  (5 points)##################\n",
    "optimizer = torch.optim.SGD(model.parameters(),lr=1e-2)\n",
    "criterion = torch.nn.CrossEntropyLoss().cuda()"
   ]
  },
  {
   "cell_type": "code",
   "execution_count": 29,
   "metadata": {},
   "outputs": [],
   "source": [
    "# run the model for one epoch\n",
    "# can be used for both training or validation model\n",
    "def run_epoch(data_loader, model, criterion, epoch, is_training, optimizer=None,scheduler=None,log = []):\n",
    "    if is_training:\n",
    "        model.train()\n",
    "        logger_prefix = 'train'\n",
    "    else:\n",
    "        model.eval()\n",
    "        logger_prefix = 'val'\n",
    "\n",
    "    confusion_matrix = tnt.meter.ConfusionMeter(num_class)\n",
    "    acc = tnt.meter.ClassErrorMeter(accuracy=True)\n",
    "    meter_loss = tnt.meter.AverageValueMeter()\n",
    "\n",
    "    for batch_idx, sample in enumerate(data_loader):\n",
    "        sequence = sample['seq']\n",
    "        label = sample['label']\n",
    "        input_sequence_var = Variable(sequence).type(FloatTensor)\n",
    "        input_label_var = Variable(label).type(LongTensor)\n",
    "        \n",
    "        if use_cuda:\n",
    "            input_sequence_var.cuda().type(gpu_dtype)\n",
    "            input_label_var.cuda().long()\n",
    "        # compute output\n",
    "        # output_logits: [batch_size, num_class]\n",
    "        output_logits = model(input_sequence_var)\n",
    "        loss = criterion(output_logits, input_label_var)\n",
    "\n",
    "        if is_training:\n",
    "            optimizer.zero_grad()\n",
    "            loss.backward()\n",
    "#             _, l = run_epoch(valLD, model, criterion, e, False, None,log=val_loss)\n",
    "            optimizer.step()\n",
    "#             scheduler.step()\n",
    "\n",
    "        meter_loss.add(loss.data[0])\n",
    "        acc.add(output_logits.data, input_label_var.data)\n",
    "        confusion_matrix.add(output_logits.data, input_label_var.data)\n",
    "    if e +1 == num_epochs:\n",
    "        print(confusion_matrix.conf)\n",
    "\n",
    "\n",
    "    print('%s Epoch: %d  , Loss: %.4f,  Accuracy: %.2f'%(logger_prefix, epoch, meter_loss.value()[0], acc.value()[0]))\n",
    "    log.append(meter_loss.value()[0])\n",
    "    return acc.value()[0], meter_loss.value()[0]"
   ]
  },
  {
   "cell_type": "markdown",
   "metadata": {},
   "source": [
    "## Advanced model"
   ]
  },
  {
   "cell_type": "code",
   "execution_count": 262,
   "metadata": {},
   "outputs": [],
   "source": [
    "# sequence classification model\n",
    "class ActionModel(nn.Module):\n",
    "    def __init__(self):\n",
    "        super(ActionModel, self).__init__()\n",
    "#         self.norm = nn.BatchNorm1d(15)\n",
    "        self.recurrent_layer = nn.LSTM(75,200,num_layers = 3,dropout=0.5,bidirectional=True,batch_first=True)\n",
    "        self.r2 =  nn.LSTM(75,50,num_layers=3,dropout=0.2, bidirectional=False,batch_first= True)\n",
    "#         self.r3 = nn.LSTM(150,60, num_layers=1,bidirectional=True)\n",
    "#         self.l1 = nn.Linear(512,10)\n",
    "#         self.classify_layer = nn.Linear(100,10)\n",
    "#         self.softmax = nn.LogSoftmax()\n",
    "        self.classify_layer = nn.Sequential(\n",
    "#             nn.BatchNorm1d(400),\n",
    "            nn.Linear(450,128),\n",
    "            nn.BatchNorm1d(128),\n",
    "            nn.LeakyReLU(),\n",
    "            nn.Linear(128,10))\n",
    "#             nn.LogSoftmax())\n",
    "        \n",
    "    # the size of input is [batch_size, seq_len(15), input_dim(75)]\n",
    "    # the size of logits is [batch_size, num_class]\n",
    "    def forward(self, input, h_t_1=None, c_t_1=None):\n",
    "        # the size of rnn_outputs is [batch_size, seq_len, rnn_size]\n",
    "#         input = self.norm(input)\n",
    "        rnn_outputs, (hn, cn) = self.recurrent_layer(input)\n",
    "        r2, (hn, cn) = self.r2(input)\n",
    "        rnn_outputs = torch.cat((rnn_outputs,r2),2)\n",
    "        \n",
    "#         rnn_outputs, (hn, cn) = self.r3(rnn_outputs)\n",
    "        # classify the last step of rnn_outpus\n",
    "        # the size of logits is [batch_size, num_class]\n",
    "#         import ipdb;ipdb.set_trace()\n",
    "        logits = self.classify_layer(rnn_outputs[:,-1])\n",
    "#         logits = self.classify_layer(logits)\n",
    "#         logits = self.softmax(logits)\n",
    "        \n",
    "        return logits\n",
    "\n",
    "model = ActionModel()\n",
    "\n",
    "model = model.cuda()\n",
    "train_loss = []\n",
    "val_loss = []"
   ]
  },
  {
   "cell_type": "code",
   "execution_count": 263,
   "metadata": {},
   "outputs": [],
   "source": [
    "optimizer = torch.optim.Adam(model.parameters(), lr=1e-3,amsgrad=True)\n",
    "scheduler = torch.optim.lr_scheduler.ReduceLROnPlateau(optimizer,patience=5,factor=0.1,verbose=True,min_lr=5e-5)\n",
    "criterion = torch.nn.CrossEntropyLoss().cuda()\n",
    "gpu_dtype = torch.cuda.FloatTensor\n",
    "use_cuda=True"
   ]
  },
  {
   "cell_type": "code",
   "execution_count": 264,
   "metadata": {
    "scrolled": true
   },
   "outputs": [
    {
     "name": "stderr",
     "output_type": "stream",
     "text": [
      "/home/faizaan09/anaconda3/lib/python3.6/site-packages/ipykernel_launcher.py:36: UserWarning: invalid index of a 0-dim tensor. This will be an error in PyTorch 0.5. Use tensor.item() to convert a 0-dim tensor to a Python number\n"
     ]
    },
    {
     "name": "stdout",
     "output_type": "stream",
     "text": [
      "train Epoch: 0  , Loss: 2.1347,  Accuracy: 23.32\n",
      "val Epoch: 0  , Loss: 2.1005,  Accuracy: 35.38\n"
     ]
    },
    {
     "data": {
      "image/png": "[encoded data removed]",
      "text/plain": [
       "<matplotlib.figure.Figure at 0x7f1724f75d30>"
      ]
     },
     "metadata": {},
     "output_type": "display_data"
    },
    {
     "name": "stdout",
     "output_type": "stream",
     "text": [
      "train Epoch: 1  , Loss: 1.5309,  Accuracy: 50.35\n",
      "val Epoch: 1  , Loss: 1.4336,  Accuracy: 56.38\n",
      "train Epoch: 2  , Loss: 1.2046,  Accuracy: 59.08\n",
      "val Epoch: 2  , Loss: 1.2533,  Accuracy: 61.88\n",
      "train Epoch: 3  , Loss: 1.0546,  Accuracy: 63.47\n",
      "val Epoch: 3  , Loss: 1.1493,  Accuracy: 66.25\n",
      "train Epoch: 4  , Loss: 0.9330,  Accuracy: 67.12\n",
      "val Epoch: 4  , Loss: 1.1242,  Accuracy: 66.00\n",
      "train Epoch: 5  , Loss: 0.8486,  Accuracy: 70.95\n",
      "val Epoch: 5  , Loss: 1.0456,  Accuracy: 68.38\n",
      "train Epoch: 6  , Loss: 0.7726,  Accuracy: 73.83\n",
      "val Epoch: 6  , Loss: 0.9986,  Accuracy: 69.12\n",
      "train Epoch: 7  , Loss: 0.7193,  Accuracy: 74.38\n",
      "val Epoch: 7  , Loss: 0.9449,  Accuracy: 71.75\n",
      "train Epoch: 8  , Loss: 0.6787,  Accuracy: 76.42\n",
      "val Epoch: 8  , Loss: 0.9269,  Accuracy: 71.75\n",
      "train Epoch: 9  , Loss: 0.6314,  Accuracy: 77.60\n",
      "val Epoch: 9  , Loss: 0.8208,  Accuracy: 75.12\n",
      "train Epoch: 10  , Loss: 0.6099,  Accuracy: 78.95\n",
      "val Epoch: 10  , Loss: 0.9269,  Accuracy: 73.50\n"
     ]
    },
    {
     "data": {
      "image/png": "[encoded data removed]",
      "text/plain": [
       "<matplotlib.figure.Figure at 0x7f1725022e80>"
      ]
     },
     "metadata": {},
     "output_type": "display_data"
    },
    {
     "name": "stdout",
     "output_type": "stream",
     "text": [
      "train Epoch: 11  , Loss: 0.5685,  Accuracy: 80.77\n",
      "val Epoch: 11  , Loss: 0.7887,  Accuracy: 76.25\n",
      "train Epoch: 12  , Loss: 0.5402,  Accuracy: 81.42\n",
      "val Epoch: 12  , Loss: 0.7547,  Accuracy: 75.62\n",
      "train Epoch: 13  , Loss: 0.5113,  Accuracy: 83.02\n",
      "val Epoch: 13  , Loss: 0.8610,  Accuracy: 72.75\n",
      "train Epoch: 14  , Loss: 0.4771,  Accuracy: 83.42\n",
      "val Epoch: 14  , Loss: 0.6945,  Accuracy: 78.50\n",
      "train Epoch: 15  , Loss: 0.4544,  Accuracy: 84.02\n",
      "val Epoch: 15  , Loss: 0.7621,  Accuracy: 76.88\n",
      "train Epoch: 16  , Loss: 0.4420,  Accuracy: 84.12\n",
      "val Epoch: 16  , Loss: 0.8168,  Accuracy: 78.12\n",
      "train Epoch: 17  , Loss: 0.4229,  Accuracy: 85.15\n",
      "val Epoch: 17  , Loss: 0.8229,  Accuracy: 76.62\n",
      "train Epoch: 18  , Loss: 0.3990,  Accuracy: 86.72\n",
      "val Epoch: 18  , Loss: 0.7284,  Accuracy: 78.88\n",
      "train Epoch: 19  , Loss: 0.3718,  Accuracy: 87.12\n",
      "val Epoch: 19  , Loss: 0.6887,  Accuracy: 79.00\n",
      "train Epoch: 20  , Loss: 0.3591,  Accuracy: 87.48\n",
      "val Epoch: 20  , Loss: 0.7267,  Accuracy: 79.00\n"
     ]
    },
    {
     "data": {
      "image/png": "[encoded data removed]",
      "text/plain": [
       "<matplotlib.figure.Figure at 0x7f1742d1e198>"
      ]
     },
     "metadata": {},
     "output_type": "display_data"
    },
    {
     "name": "stdout",
     "output_type": "stream",
     "text": [
      "train Epoch: 21  , Loss: 0.3296,  Accuracy: 88.28\n",
      "val Epoch: 21  , Loss: 0.7606,  Accuracy: 78.88\n",
      "train Epoch: 22  , Loss: 0.3276,  Accuracy: 88.33\n",
      "val Epoch: 22  , Loss: 0.9024,  Accuracy: 75.50\n",
      "train Epoch: 23  , Loss: 0.3290,  Accuracy: 88.83\n",
      "val Epoch: 23  , Loss: 0.7149,  Accuracy: 79.88\n",
      "train Epoch: 24  , Loss: 0.3050,  Accuracy: 89.33\n",
      "val Epoch: 24  , Loss: 0.7001,  Accuracy: 79.62\n",
      "train Epoch: 25  , Loss: 0.3094,  Accuracy: 89.45\n",
      "val Epoch: 25  , Loss: 0.7039,  Accuracy: 80.62\n",
      "Epoch    25: reducing learning rate of group 0 to 1.0000e-04.\n",
      "train Epoch: 26  , Loss: 0.2054,  Accuracy: 93.23\n",
      "val Epoch: 26  , Loss: 0.6644,  Accuracy: 82.38\n",
      "train Epoch: 27  , Loss: 0.1773,  Accuracy: 94.30\n",
      "val Epoch: 27  , Loss: 0.6633,  Accuracy: 81.88\n",
      "train Epoch: 28  , Loss: 0.1737,  Accuracy: 94.12\n",
      "val Epoch: 28  , Loss: 0.6641,  Accuracy: 81.25\n",
      "[[353   9  21   2   5   0   3   0   0   7]\n",
      " [  7 369   4   2  10   0   1   0   0   7]\n",
      " [ 25   0 356  13   0   0   0   0   1   5]\n",
      " [  7   3  10 366   0   0   2   0   0  12]\n",
      " [  1   9   1   0 385   0   1   0   0   3]\n",
      " [  0   0   0   0   0 399   0   1   0   0]\n",
      " [  0   0   0   0   3   0 396   0   1   0]\n",
      " [  0   0   0   0   0   0   0 400   0   0]\n",
      " [  0   0   0   0   0   1   0   0 399   0]\n",
      " [  4   3   3   9   5   0   1   1   0 374]]\n",
      "train Epoch: 29  , Loss: 0.1564,  Accuracy: 94.92\n",
      "[[50  9 11  6  0  0  1  0  0  3]\n",
      " [ 7 42  6  3  1  0  7  0  0  4]\n",
      " [ 6  0 63 11  0  0  0  0  0  2]\n",
      " [ 5  0  3 64  0  0  0  0  0  3]\n",
      " [ 0  8  0  0 65  0  2  1  0  0]\n",
      " [ 0  0  0  0  0 86  1  0  1  0]\n",
      " [ 3  3  2  5  0  1 71  1  1  1]\n",
      " [ 0  0  0  0  0  2  0 70  0  0]\n",
      " [ 0  1  0  0  0  0  1  0 77  0]\n",
      " [ 2  6  4  4  0  0  1  0  0 73]]\n",
      "val Epoch: 29  , Loss: 0.6528,  Accuracy: 82.62\n"
     ]
    }
   ],
   "source": [
    "num_epochs = 30\n",
    "evaluate_every_epoch = 1\n",
    "plot_every_epoch = 10\n",
    "for e in range(num_epochs):\n",
    "    run_epoch(trLD, model, criterion, e, True, optimizer,scheduler,log=train_loss)\n",
    "    if e % evaluate_every_epoch == 0:\n",
    "        _,l = run_epoch(valLD, model, criterion, e, False, None,log=val_loss)\n",
    "    \n",
    "    if e % plot_every_epoch == 0:\n",
    "        plt.plot(train_loss)\n",
    "        plt.plot(val_loss)\n",
    "        plt.show()\n",
    "    scheduler.step(l)"
   ]
  },
  {
   "cell_type": "code",
   "execution_count": 265,
   "metadata": {},
   "outputs": [
    {
     "data": {
      "image/png": "[encoded data removed]",
      "text/plain": [
       "<matplotlib.figure.Figure at 0x7f17256a2a58>"
      ]
     },
     "metadata": {},
     "output_type": "display_data"
    }
   ],
   "source": [
    "plt.plot(train_loss)\n",
    "plt.plot(val_loss)\n",
    "plt.show()"
   ]
  },
  {
   "cell_type": "code",
   "execution_count": 258,
   "metadata": {},
   "outputs": [],
   "source": [
    "torch.save(model.state_dict(), 'final.pt')"
   ]
  },
  {
   "cell_type": "code",
   "execution_count": null,
   "metadata": {},
   "outputs": [],
   "source": [
    "mymodel = ActionModel()\n",
    "mymodel.load_state_dict(torch.load('config4.pt'))"
   ]
  },
  {
   "cell_type": "code",
   "execution_count": null,
   "metadata": {
    "scrolled": true
   },
   "outputs": [],
   "source": [
    "mymodel"
   ]
  },
  {
   "cell_type": "markdown",
   "metadata": {},
   "source": [
    "## Submit your results on Kaggle\n",
    "\n",
    "### Train a better model for action recognition!\n",
    "Now it's your job to experiment with architectures, hyperparameters, loss functions, and optimizers to train a model that achieves better accuracy on the action recognition validation set.\n",
    "\n",
    "\n",
    "### Testing the model and submit on Kaggle\n",
    "Testing the model on the testing set and save the results as a .csv file. \n",
    "Please submitted the results.csv file generated by predict_on_test() to Kaggle(https://www.kaggle.com/c/cse512springhw5) to see how well your network performs on the test set. \n",
    "################ 3rd To Do  (30 points, the highest 3 entries get extra 10 points) ###############"
   ]
  },
  {
   "cell_type": "code",
   "execution_count": 259,
   "metadata": {},
   "outputs": [
    {
     "name": "stdout",
     "output_type": "stream",
     "text": [
      "1000\n"
     ]
    }
   ],
   "source": [
    "# Use your best model to generate results on test set.\n",
    "\n",
    "# generate csv file for test set\n",
    "def predict_on_test(model, data_loader):\n",
    "    model.eval() # Put the model in test mode (the opposite of model.train(), essentially)\n",
    "    results=open('results.csv','w')\n",
    "    count=0\n",
    "    results.write('Id'+','+'Class'+'\\n')\n",
    "    for batch_idx, sample in enumerate(data_loader):\n",
    "        sequence = sample['seq']\n",
    "        input_sequence_var = Variable(sequence).type(FloatTensor)\n",
    "        scores = model(input_sequence_var)\n",
    "        _, preds = scores.data.max(1)\n",
    "        for i in range(len(preds)):\n",
    "            results.write(str(count)+','+str(preds[i].cpu().item())+'\\n')\n",
    "            count+=1\n",
    "    results.close()\n",
    "    return count\n",
    "\n",
    "count=predict_on_test(model, tstLD)\n",
    "print(count)"
   ]
  },
  {
   "cell_type": "markdown",
   "metadata": {},
   "source": [
    "## Report the performance\n",
    "################ 4th To Do  (15 points)##################\n",
    "\n",
    "### Documentation of what you did\n",
    "In this cell, you should write an explanation of what you did (network architecture, optimiziter, learning rate, epoches) and visualizations or graphs of loss/accuracy curve tin the process of training and evaluating."
   ]
  },
  {
   "cell_type": "markdown",
   "metadata": {},
   "source": [
    "### Architecture:\n",
    "\n",
    "The input is sent to 2 parallely running LSTM layers with the config:\n",
    "1. 200 nodes, 3 stacked layers, dropout=0.5, bidirectional=True\n",
    "2. 50 nodes, stacked layers=3, dropout=0.2, bidirectional=False\n",
    "The output of these two layers is concatenated into a 450 dimension vector and passed on to 2 FC layers, separated by a BatchNorm layer and a Leaky Relu activation layer.\n",
    "\n",
    "\n",
    "### Optimizer:\n",
    "Adam optimizer was found to be converging the best for this problem. There was a recent paper in ICLR 2018 (https://openreview.net/forum?id=ryQu7f-RZ) that proved there was an error in the original proof of Adam and the author's suggested a new optimizer called AMSGrad. This is availale in PyTorch as a hyperparameter of the Adam optimizer. AMSGrad version of Adam was used in this implementation\n",
    "\n",
    "### Learning rate:\n",
    "It was observed that while the loss was initially decreasing for both training and testing sets, after a certain epochs that validation loss either reaches a plateau or increases while the model starts overfitting on the training data. To solve this problem we start with a learning rate of 1e-3 but use an lr_scheduler to tweak the learning rate while training. The specific scheduler used was \"ReduceLROnPlateau\" which takes the validation loss as input and when the validation loss doesn't reduce for 5 epochs, it multiplies the learning rate by 0.1, to avoid overfitting.\n",
    "\n",
    "\n",
    "### Epochs:\n",
    "After 30 training epochs, we achieve 92.77% accuracy on training data and 83.00% accuracy on validation data. The loss vs. epochs plot looks like this."
   ]
  },
  {
   "cell_type": "code",
   "execution_count": 266,
   "metadata": {},
   "outputs": [
    {
     "data": {
      "image/png": "[encoded data removed]",
      "text/plain": [
       "<matplotlib.figure.Figure at 0x7f1742355278>"
      ]
     },
     "metadata": {},
     "output_type": "display_data"
    }
   ],
   "source": [
    "tl = plt.plot(train_loss,label = \"Training Loss\")\n",
    "vl = plt.plot(val_loss, label = \"Validation Loss\")\n",
    "plt.legend(loc='upper right')\n",
    "plt.xlabel(\"Epochs\")\n",
    "plt.ylabel(\"Loss\")\n",
    "plt.show()"
   ]
  },
  {
   "cell_type": "markdown",
   "metadata": {},
   "source": [
    "### performance on Kaggle\n",
    "You should also report your Kaggle Performance here: 82.4% (Rank 12 at 10:45 pm)"
   ]
  }
 ],
 "metadata": {
  "kernelspec": {
   "display_name": "Python 3",
   "language": "python",
   "name": "python3"
  },
  "language_info": {
   "codemirror_mode": {
    "name": "ipython",
    "version": 3
   },
   "file_extension": ".py",
   "mimetype": "text/x-python",
   "name": "python",
   "nbconvert_exporter": "python",
   "pygments_lexer": "ipython3",
   "version": "3.6.4"
  }
 },
 "nbformat": 4,
 "nbformat_minor": 2
}
